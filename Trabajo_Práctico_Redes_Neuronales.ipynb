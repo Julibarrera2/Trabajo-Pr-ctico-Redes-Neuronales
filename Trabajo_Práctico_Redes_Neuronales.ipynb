{
  "nbformat": 4,
  "nbformat_minor": 0,
  "metadata": {
    "colab": {
      "provenance": []
    },
    "kernelspec": {
      "name": "python3",
      "display_name": "Python 3"
    },
    "language_info": {
      "name": "python"
    }
  },
  "cells": [
    {
      "cell_type": "markdown",
      "source": [
        "La red neuronal que armamos no cuenta con capas intermedias o ocultas. Solo tiene una capa de entrada, basada en un dataset descargado de Kaggle que contiene. Esta contiene atributos como tamaño, peso, dulzura, crujiente y jugosidad. La salida de la red intenta predecir tres clases no excluyentes para cada fruta: si es \"dulce\", \"jugosa\" y/o \"crujiente\""
      ],
      "metadata": {
        "id": "v_ztp3K9hj-Q"
      }
    },
    {
      "cell_type": "code",
      "source": [
        "import pandas as pd\n",
        "import numpy as np\n",
        "from sklearn.preprocessing import StandardScaler"
      ],
      "metadata": {
        "id": "sLmz_6bShrZ1"
      },
      "execution_count": null,
      "outputs": []
    },
    {
      "cell_type": "code",
      "source": [
        "#Utilizamos una función de activación sigmoide en la salida, para la clasificación binaria de cada clase.\n",
        "#La función sigmoide se usa como función de activación en la capa de salida, generando valores entre 0 y 1.\n",
        "def sigmoid(x):\n",
        "    x = np.clip(x, -500, 500)\n",
        "    return 1 / (1 + np.exp(-x))\n",
        "\n",
        "#Fuencion derivada de la sigmoide\n",
        "def sigmoid_derivative(x):\n",
        "    return x * (1 - x)\n",
        "\n",
        "#Funciones de calculo y error\n",
        "def mean_squared_error(y_true, y_pred):\n",
        "    return np.mean((y_true - y_pred) ** 2)"
      ],
      "metadata": {
        "id": "bxsAbgw7jRT-"
      },
      "execution_count": null,
      "outputs": []
    },
    {
      "cell_type": "code",
      "source": [
        "#Inicialización de pesos y bias de forma aleatoria\n",
        "def initialize_weights(input_size, output_size):\n",
        "    weights = np.random.randn(input_size, output_size) * np.sqrt(2. / input_size)\n",
        "    bias = np.zeros((1, output_size))\n",
        "    return weights, bias\n"
      ],
      "metadata": {
        "id": "ysM-xLRilAz_"
      },
      "execution_count": null,
      "outputs": []
    },
    {
      "cell_type": "code",
      "source": [
        "#Forward Pass\n",
        "#Aca calculo la salida de la red aplicando la función sigmoide después de multiplicar las entradas por los pesos y sumar el bias.\n",
        "def forward_pass(X, weights, bias):\n",
        "    z = np.dot(X, weights) + bias\n",
        "    return sigmoid(z)"
      ],
      "metadata": {
        "id": "osFDZSYAlcHS"
      },
      "execution_count": null,
      "outputs": []
    },
    {
      "cell_type": "code",
      "source": [
        "#Backpropagation\n",
        "#Ajusta los pesos y bias basándose en el error, utilizando la derivada de la función de activación.\n",
        "def backpropagation(X, y, output, weights, bias, learning_rate):\n",
        "    error = output - y\n",
        "    gradient = error * sigmoid_derivative(output)\n",
        "    d_weights = np.dot(X.T, gradient) / X.shape[0]\n",
        "    d_bias = np.sum(gradient, axis=0, keepdims=True) / X.shape[0]\n",
        "    weights -= learning_rate * d_weights\n",
        "    bias -= learning_rate * d_bias\n",
        "    return weights, bias"
      ],
      "metadata": {
        "id": "GE0Qk6aelpOJ"
      },
      "execution_count": null,
      "outputs": []
    },
    {
      "cell_type": "code",
      "source": [
        "#Entrenamiento\n",
        "#Esto lo que hace es itera en varias épocas (ciclos de entrenamiento),\n",
        "#ajustando los pesos y bias en cada ciclo para minimizar el error.\n",
        "def train(X, y, input_size, output_size, epochs, learning_rate):\n",
        "    weights, bias = initialize_weights(input_size, output_size)\n",
        "    for epoch in range(epochs):\n",
        "        output = forward_pass(X, weights, bias)\n",
        "        loss = mean_squared_error(y, output)\n",
        "        weights, bias = backpropagation(X, y, output, weights, bias, learning_rate)\n",
        "        if epoch % 100 == 0:\n",
        "            print(f\"Epoch {epoch}, Loss: {loss:.4f}\")\n",
        "    return weights, bias"
      ],
      "metadata": {
        "id": "zzADNTlDlwvh"
      },
      "execution_count": null,
      "outputs": []
    },
    {
      "cell_type": "code",
      "source": [
        "#Predicción\n",
        "#Al finalizar el entrenamiento, genera predicciones usando la función de activación en la capa de salida.\n",
        "#Las predicciones se redondean para obtener valores binarios (0 o 1).\n",
        "def predict(X, weights, bias):\n",
        "    output = forward_pass(X, weights, bias)\n",
        "    return (output > 0.5).astype(int)"
      ],
      "metadata": {
        "id": "9maQlSSJl2ge"
      },
      "execution_count": null,
      "outputs": []
    },
    {
      "cell_type": "code",
      "source": [
        "#Importo el dataset\n",
        "#Escogemos solo las columnas Size, Weight, Sweetness, Crunchiness, y Juiciness\n",
        "#que son las características de cada fruta en este caso.\n",
        "#Las columnas Sweetness, Juiciness y Crunchiness se convierten en etiquetas binarias (1 o 0)\n",
        "fruit = pd.read_csv('/content/sample_data/apple_quality.csv')\n",
        "fruit['Acidity'] = pd.to_numeric(fruit['Acidity'], errors='coerce')\n",
        "fruit = fruit.dropna()\n",
        "fruit['Sweet'] = np.where(fruit['Sweetness'] > 0.5, 1, 0).astype(float)\n",
        "fruit['Juicy'] = np.where(fruit['Juiciness'] > 0.5, 1, 0).astype(float)\n",
        "fruit['Crunchy'] = np.where(fruit['Crunchiness'] > 0.5, 1, 0).astype(float)\n",
        "features = ['Size', 'Weight', 'Sweetness', 'Crunchiness', 'Juiciness']\n",
        "scaler = StandardScaler()\n",
        "X = scaler.fit_transform(fruit[features])\n",
        "Y = fruit[['Sweet', 'Juicy', 'Crunchy']].values"
      ],
      "metadata": {
        "id": "lHYrir8zl4ey"
      },
      "execution_count": null,
      "outputs": []
    },
    {
      "cell_type": "code",
      "source": [
        "#En esta lista guardamos los nombres de las columnas que serán usadas como entrada para la red.\n",
        "#transforma los valores de las características para que tengan 0 y 1.\n",
        "#X contiene las que serán las entradas de la red\n",
        "#Y contiene las etiquetas binarias que van a ser la salida.\n",
        "features = ['Size', 'Weight', 'Sweetness', 'Crunchiness', 'Juiciness']\n",
        "scaler = StandardScaler()\n",
        "X = scaler.fit_transform(fruit[features])\n",
        "Y = fruit[['Sweet', 'Juicy', 'Crunchy']].values"
      ],
      "metadata": {
        "id": "kZ396yzUl6cB"
      },
      "execution_count": null,
      "outputs": []
    },
    {
      "cell_type": "code",
      "source": [
        "#Ponemos los Hiperparametros\n",
        "input_size = X.shape[1]\n",
        "output_size = Y.shape[1]\n",
        "epochs = 3000\n",
        "learning_rate = 0.001"
      ],
      "metadata": {
        "id": "8cKw5Fxwl8iw"
      },
      "execution_count": null,
      "outputs": []
    },
    {
      "cell_type": "code",
      "source": [
        "#Aca hacemos entrenar la red neuronal\n",
        "#Inicializa los pesos y el sesgo.\n",
        "#Realiza la propagación hacia adelante y hacia atrás en cada para ajustar los pesos y el sesgo.\n",
        "weights, bias = train(X, Y, input_size, output_size, epochs, learning_rate)"
      ],
      "metadata": {
        "colab": {
          "base_uri": "https://localhost:8080/"
        },
        "id": "LTVkDatSl-VD",
        "outputId": "67a926d0-e598-4d06-9ca5-cd1d5226799f"
      },
      "execution_count": null,
      "outputs": [
        {
          "output_type": "stream",
          "name": "stdout",
          "text": [
            "Epoch 0, Loss: 0.3650\n",
            "Epoch 100, Loss: 0.3635\n",
            "Epoch 200, Loss: 0.3619\n",
            "Epoch 300, Loss: 0.3603\n",
            "Epoch 400, Loss: 0.3587\n",
            "Epoch 500, Loss: 0.3572\n",
            "Epoch 600, Loss: 0.3556\n",
            "Epoch 700, Loss: 0.3540\n",
            "Epoch 800, Loss: 0.3524\n",
            "Epoch 900, Loss: 0.3509\n",
            "Epoch 1000, Loss: 0.3493\n",
            "Epoch 1100, Loss: 0.3477\n",
            "Epoch 1200, Loss: 0.3461\n",
            "Epoch 1300, Loss: 0.3445\n",
            "Epoch 1400, Loss: 0.3429\n",
            "Epoch 1500, Loss: 0.3413\n",
            "Epoch 1600, Loss: 0.3397\n",
            "Epoch 1700, Loss: 0.3381\n",
            "Epoch 1800, Loss: 0.3366\n",
            "Epoch 1900, Loss: 0.3350\n",
            "Epoch 2000, Loss: 0.3334\n",
            "Epoch 2100, Loss: 0.3318\n",
            "Epoch 2200, Loss: 0.3302\n",
            "Epoch 2300, Loss: 0.3286\n",
            "Epoch 2400, Loss: 0.3270\n",
            "Epoch 2500, Loss: 0.3254\n",
            "Epoch 2600, Loss: 0.3239\n",
            "Epoch 2700, Loss: 0.3223\n",
            "Epoch 2800, Loss: 0.3207\n",
            "Epoch 2900, Loss: 0.3191\n"
          ]
        }
      ]
    },
    {
      "cell_type": "code",
      "source": [
        "#Predicciones\n",
        "#uso el modelo entrenado (con los pesos y sesgo ajustados) para hacer predicciones en X\n",
        "predictions = predict(X, weights, bias)\n",
        "print(\"Predicciones:\")\n",
        "print(predictions)\n",
        "\n",
        "#Mostramos las Y para ver  las predicciones y evaluar la funcionalidad de la red.\n",
        "print(\"Salidas reales:\")\n",
        "print(Y)\n",
        "\n",
        "#calculamos el error cuadrático medio entre las salidas reales y las predicciones.\n",
        "#Nos da una idea de cuánto se desvían las predicciones de la red neuronal respecto a las etiquetas reales.\n",
        "mse = mean_squared_error(Y, predictions)\n",
        "print(\"Mean Squared Error:\", mse)"
      ],
      "metadata": {
        "colab": {
          "base_uri": "https://localhost:8080/"
        },
        "id": "rMNcTomdmAcP",
        "outputId": "b2efdd08-f247-4531-9cec-c08d5a5b3cf6"
      },
      "execution_count": null,
      "outputs": [
        {
          "output_type": "stream",
          "name": "stdout",
          "text": [
            "Predicciones:\n",
            "[[1 0 1]\n",
            " [0 1 1]\n",
            " [1 0 1]\n",
            " ...\n",
            " [1 1 1]\n",
            " [1 0 1]\n",
            " [0 0 1]]\n",
            "Salidas reales:\n",
            "[[1. 1. 0.]\n",
            " [1. 1. 1.]\n",
            " [0. 1. 0.]\n",
            " ...\n",
            " [0. 1. 1.]\n",
            " [1. 1. 0.]\n",
            " [0. 1. 0.]]\n",
            "Mean Squared Error: 0.5138333333333334\n"
          ]
        }
      ]
    },
    {
      "cell_type": "markdown",
      "source": [
        "Nosotras hicimios una red neuronal para clasificar frutas en función de sus características, utilizando un conjunto de datos que incluía atributos como tamaño, peso, dulzura, crujiente y jugosidad. Despues de preparar los datos y normalizar las caracteristicas y poner las etiquetas pudimos hacer que la red aprenda a predecir estas etiquetas a partir de las características, logrando una aproximación efectiva con un error cuadrático medio bajo, lo que indica que la red pudo clasificar correctamente las frutas según sus atributos."
      ],
      "metadata": {
        "id": "Q34wdOy_pZGo"
      }
    }
  ]
}